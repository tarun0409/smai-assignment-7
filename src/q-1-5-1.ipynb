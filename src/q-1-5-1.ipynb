{
 "cells": [
  {
   "cell_type": "code",
   "execution_count": 1,
   "metadata": {},
   "outputs": [],
   "source": [
    "import pandas as pd\n",
    "import numpy as np\n",
    "import operator\n",
    "import json\n",
    "\n",
    "from sklearn.model_selection import train_test_split\n",
    "\n",
    "import matplotlib.pyplot as plt\n",
    "from sklearn.model_selection import KFold"
   ]
  },
  {
   "cell_type": "code",
   "execution_count": 2,
   "metadata": {},
   "outputs": [],
   "source": [
    "class LinearRegression:\n",
    "    theta = None\n",
    "    \n",
    "    def predict(self, X):\n",
    "        Y_pred = np.dot(X,self.theta.T)\n",
    "        return Y_pred\n",
    "    \n",
    "    def compute_error(self, y_pred, y_actual, regularization_method, l):\n",
    "        m = len(y_actual)\n",
    "        error = (1.0/float(m))*np.sum((y_pred-y_actual)*(y_pred-y_actual))\n",
    "        reg_term = 0\n",
    "        if regularization_method == 'lasso':\n",
    "            reg_term = np.sum(np.abs(self.theta))\n",
    "        if regularization_method == 'ridge':\n",
    "            reg_term = np.sum(np.square(self.theta))\n",
    "            \n",
    "        error = error + (l*reg_term)\n",
    "        return error\n",
    "    \n",
    "    def compute_gradient(self, X, h, Y,regularization_method,l):\n",
    "        m = len(Y)\n",
    "        grad = (2.0/float(m))*np.sum(X*(h-Y), axis=0)\n",
    "        reg_term = 0\n",
    "        if regularization_method == 'lasso':\n",
    "            reg_term = np.sum(np.divide(self.theta,np.abs(self.theta)))\n",
    "        if regularization_method == 'ridge':\n",
    "            reg_term = 2*np.sum(self.theta)\n",
    "            \n",
    "        grad = grad + (l*reg_term)\n",
    "        return grad\n",
    "    \n",
    "    def train(self, X, y, alpha, max_epochs, regularization_method,l):\n",
    "        self.theta = None\n",
    "        self.theta = np.random.rand(1,X_train.shape[1])\n",
    "        m = len(X_train)\n",
    "        its = list()\n",
    "        errs = list()\n",
    "        for i in range(0,max_epochs):\n",
    "#             X = X_train.values\n",
    "            h = np.dot(X,self.theta.T)\n",
    "#             Y = y_train.values\n",
    "            self.theta = self.theta - alpha*self.compute_gradient(X,h,y,regularization_method,l)\n",
    "            \n",
    "            y_pred = np.dot(X,self.theta.T)\n",
    "            err = self.compute_error(y_pred,y, regularization_method,l)\n",
    "            its.append((i+1))\n",
    "            errs.append(err)\n",
    "        return (its,errs)\n",
    "            "
   ]
  },
  {
   "cell_type": "code",
   "execution_count": 3,
   "metadata": {},
   "outputs": [],
   "source": [
    "def train_data(X_train, y_train, X_test, y_test):\n",
    "    ln_mse = LinearRegression()\n",
    "    its_mse,errs_mse = ln_mse.train(X_train,y_train,0.1, 100,'ridge',0.01)\n",
    "    y_train_pred_mse = ln_mse.predict(X_train)\n",
    "    y_test_pred_mse = ln_mse.predict(X_test)\n",
    "    train_mse = ln_mse.compute_error(y_train_pred_mse, y_train,'ridge',0.01)\n",
    "    test_mse = ln_mse.compute_error(y_test_pred_mse, y_test,'ridge',0.01)\n",
    "    return train_mse,test_mse"
   ]
  },
  {
   "cell_type": "code",
   "execution_count": 4,
   "metadata": {},
   "outputs": [
    {
     "data": {
      "text/html": [
       "<div>\n",
       "<style scoped>\n",
       "    .dataframe tbody tr th:only-of-type {\n",
       "        vertical-align: middle;\n",
       "    }\n",
       "\n",
       "    .dataframe tbody tr th {\n",
       "        vertical-align: top;\n",
       "    }\n",
       "\n",
       "    .dataframe thead th {\n",
       "        text-align: right;\n",
       "    }\n",
       "</style>\n",
       "<table border=\"1\" class=\"dataframe\">\n",
       "  <thead>\n",
       "    <tr style=\"text-align: right;\">\n",
       "      <th></th>\n",
       "      <th>Serial No.</th>\n",
       "      <th>GRE Score</th>\n",
       "      <th>TOEFL Score</th>\n",
       "      <th>University Rating</th>\n",
       "      <th>SOP</th>\n",
       "      <th>LOR</th>\n",
       "      <th>CGPA</th>\n",
       "      <th>Research</th>\n",
       "      <th>Chance of Admit</th>\n",
       "    </tr>\n",
       "  </thead>\n",
       "  <tbody>\n",
       "    <tr>\n",
       "      <th>0</th>\n",
       "      <td>242</td>\n",
       "      <td>317</td>\n",
       "      <td>103</td>\n",
       "      <td>2</td>\n",
       "      <td>2.5</td>\n",
       "      <td>2.0</td>\n",
       "      <td>8.15</td>\n",
       "      <td>0</td>\n",
       "      <td>0.65</td>\n",
       "    </tr>\n",
       "    <tr>\n",
       "      <th>1</th>\n",
       "      <td>334</td>\n",
       "      <td>319</td>\n",
       "      <td>108</td>\n",
       "      <td>3</td>\n",
       "      <td>3.0</td>\n",
       "      <td>3.5</td>\n",
       "      <td>8.54</td>\n",
       "      <td>1</td>\n",
       "      <td>0.71</td>\n",
       "    </tr>\n",
       "    <tr>\n",
       "      <th>2</th>\n",
       "      <td>4</td>\n",
       "      <td>322</td>\n",
       "      <td>110</td>\n",
       "      <td>3</td>\n",
       "      <td>3.5</td>\n",
       "      <td>2.5</td>\n",
       "      <td>8.67</td>\n",
       "      <td>1</td>\n",
       "      <td>0.80</td>\n",
       "    </tr>\n",
       "    <tr>\n",
       "      <th>3</th>\n",
       "      <td>45</td>\n",
       "      <td>326</td>\n",
       "      <td>113</td>\n",
       "      <td>5</td>\n",
       "      <td>4.5</td>\n",
       "      <td>4.0</td>\n",
       "      <td>9.40</td>\n",
       "      <td>1</td>\n",
       "      <td>0.91</td>\n",
       "    </tr>\n",
       "    <tr>\n",
       "      <th>4</th>\n",
       "      <td>232</td>\n",
       "      <td>319</td>\n",
       "      <td>106</td>\n",
       "      <td>3</td>\n",
       "      <td>3.5</td>\n",
       "      <td>2.5</td>\n",
       "      <td>8.33</td>\n",
       "      <td>1</td>\n",
       "      <td>0.74</td>\n",
       "    </tr>\n",
       "  </tbody>\n",
       "</table>\n",
       "</div>"
      ],
      "text/plain": [
       "   Serial No.  GRE Score  TOEFL Score  University Rating  SOP  LOR  CGPA  \\\n",
       "0         242        317          103                  2  2.5  2.0  8.15   \n",
       "1         334        319          108                  3  3.0  3.5  8.54   \n",
       "2           4        322          110                  3  3.5  2.5  8.67   \n",
       "3          45        326          113                  5  4.5  4.0  9.40   \n",
       "4         232        319          106                  3  3.5  2.5  8.33   \n",
       "\n",
       "   Research  Chance of Admit  \n",
       "0         0             0.65  \n",
       "1         1             0.71  \n",
       "2         1             0.80  \n",
       "3         1             0.91  \n",
       "4         1             0.74  "
      ]
     },
     "execution_count": 4,
     "metadata": {},
     "output_type": "execute_result"
    }
   ],
   "source": [
    "data = pd.read_csv(\"admission_data.csv\")\n",
    "data.head()\n"
   ]
  },
  {
   "cell_type": "code",
   "execution_count": 5,
   "metadata": {
    "scrolled": true
   },
   "outputs": [
    {
     "name": "stderr",
     "output_type": "stream",
     "text": [
      "/home/tarunm/.local/lib/python2.7/site-packages/ipykernel_launcher.py:6: SettingWithCopyWarning: \n",
      "A value is trying to be set on a copy of a slice from a DataFrame.\n",
      "Try using .loc[row_indexer,col_indexer] = value instead\n",
      "\n",
      "See the caveats in the documentation: http://pandas.pydata.org/pandas-docs/stable/indexing.html#indexing-view-versus-copy\n",
      "  \n",
      "/home/tarunm/.local/lib/python2.7/site-packages/ipykernel_launcher.py:7: SettingWithCopyWarning: \n",
      "A value is trying to be set on a copy of a slice from a DataFrame.\n",
      "Try using .loc[row_indexer,col_indexer] = value instead\n",
      "\n",
      "See the caveats in the documentation: http://pandas.pydata.org/pandas-docs/stable/indexing.html#indexing-view-versus-copy\n",
      "  import sys\n"
     ]
    }
   ],
   "source": [
    "X_pd = data[['GRE Score', 'TOEFL Score', 'University Rating', 'SOP', 'LOR', 'CGPA', 'Research']]\n",
    "y_pd = data[['Chance of Admit']]\n",
    "for col in X_pd:\n",
    "    mean = X_pd[col].mean()\n",
    "    std = X_pd[col].std()\n",
    "    X_pd[col] = (X_pd[col] - mean)/std\n",
    "X_pd['Ones'] = [1]*len(X_pd)\n",
    "X = X_pd.values\n",
    "y = y_pd.values\n",
    "train_errors = list()\n",
    "test_errors = list()\n",
    "ks = list()\n",
    "for k in range(2,201):\n",
    "    kf = KFold(n_splits=k)\n",
    "    total_train_error = 0.0\n",
    "    total_test_error = 0.0\n",
    "    for train_index,test_index in kf.split(X):\n",
    "        X_train, X_test = X[train_index], X[test_index]\n",
    "        y_train, y_test = y[train_index], y[test_index]\n",
    "        train_mse,test_mse = train_data(X_train,y_train,X_test,y_test)\n",
    "        total_train_error += train_mse\n",
    "        total_test_error += test_mse\n",
    "    total_train_error = total_train_error/k\n",
    "    total_test_error = total_test_error/k\n",
    "    train_errors.append(total_train_error)\n",
    "    test_errors.append(total_test_error)\n",
    "    ks.append(k)\n",
    "#     print 'K = '+str(k)\n",
    "#     print 'Average train error : '+str(total_train_error/k)\n",
    "#     print 'Average test error : '+str(total_test_error/k)"
   ]
  },
  {
   "cell_type": "code",
   "execution_count": 6,
   "metadata": {},
   "outputs": [
    {
     "data": {
      "text/plain": [
       "<matplotlib.text.Text at 0x7fdb31badd90>"
      ]
     },
     "execution_count": 6,
     "metadata": {},
     "output_type": "execute_result"
    },
    {
     "data": {
      "image/png": "[encoded data removed]",
      "text/plain": [
       "<matplotlib.figure.Figure at 0x7fdb31be9110>"
      ]
     },
     "metadata": {
      "needs_background": "light"
     },
     "output_type": "display_data"
    }
   ],
   "source": [
    "df = pd.DataFrame({'Train Error': train_errors, 'Test Error':test_errors}, index=ks)\n",
    "lines = df.plot.line()\n",
    "lines.set_title('K-Fold Cross-validation')\n",
    "lines.set_xlabel('k')\n",
    "lines.set_ylabel('Error')"
   ]
  },
  {
   "cell_type": "code",
   "execution_count": null,
   "metadata": {},
   "outputs": [],
   "source": []
  }
 ],
 "metadata": {
  "kernelspec": {
   "display_name": "Python 2",
   "language": "python",
   "name": "python2"
  },
  "language_info": {
   "codemirror_mode": {
    "name": "ipython",
    "version": 2
   },
   "file_extension": ".py",
   "mimetype": "text/x-python",
   "name": "python",
   "nbconvert_exporter": "python",
   "pygments_lexer": "ipython2",
   "version": "2.7.15rc1"
  }
 },
 "nbformat": 4,
 "nbformat_minor": 2
}
