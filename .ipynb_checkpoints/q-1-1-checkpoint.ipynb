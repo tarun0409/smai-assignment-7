{
 "cells": [
  {
   "cell_type": "code",
   "execution_count": 1,
   "metadata": {},
   "outputs": [],
   "source": [
    "import pandas as pd\n",
    "import numpy as np\n",
    "import operator\n",
    "import json\n",
    "\n",
    "from sklearn.model_selection import train_test_split\n",
    "\n",
    "import matplotlib.pyplot as plt"
   ]
  },
  {
   "cell_type": "code",
   "execution_count": 2,
   "metadata": {},
   "outputs": [
    {
     "data": {
      "text/html": [
       "<div>\n",
       "<style scoped>\n",
       "    .dataframe tbody tr th:only-of-type {\n",
       "        vertical-align: middle;\n",
       "    }\n",
       "\n",
       "    .dataframe tbody tr th {\n",
       "        vertical-align: top;\n",
       "    }\n",
       "\n",
       "    .dataframe thead th {\n",
       "        text-align: right;\n",
       "    }\n",
       "</style>\n",
       "<table border=\"1\" class=\"dataframe\">\n",
       "  <thead>\n",
       "    <tr style=\"text-align: right;\">\n",
       "      <th></th>\n",
       "      <th>Serial No.</th>\n",
       "      <th>GRE Score</th>\n",
       "      <th>TOEFL Score</th>\n",
       "      <th>University Rating</th>\n",
       "      <th>SOP</th>\n",
       "      <th>LOR</th>\n",
       "      <th>CGPA</th>\n",
       "      <th>Research</th>\n",
       "      <th>Chance of Admit</th>\n",
       "    </tr>\n",
       "  </thead>\n",
       "  <tbody>\n",
       "    <tr>\n",
       "      <th>0</th>\n",
       "      <td>242</td>\n",
       "      <td>317</td>\n",
       "      <td>103</td>\n",
       "      <td>2</td>\n",
       "      <td>2.5</td>\n",
       "      <td>2.0</td>\n",
       "      <td>8.15</td>\n",
       "      <td>0</td>\n",
       "      <td>0.65</td>\n",
       "    </tr>\n",
       "    <tr>\n",
       "      <th>1</th>\n",
       "      <td>334</td>\n",
       "      <td>319</td>\n",
       "      <td>108</td>\n",
       "      <td>3</td>\n",
       "      <td>3.0</td>\n",
       "      <td>3.5</td>\n",
       "      <td>8.54</td>\n",
       "      <td>1</td>\n",
       "      <td>0.71</td>\n",
       "    </tr>\n",
       "    <tr>\n",
       "      <th>2</th>\n",
       "      <td>4</td>\n",
       "      <td>322</td>\n",
       "      <td>110</td>\n",
       "      <td>3</td>\n",
       "      <td>3.5</td>\n",
       "      <td>2.5</td>\n",
       "      <td>8.67</td>\n",
       "      <td>1</td>\n",
       "      <td>0.80</td>\n",
       "    </tr>\n",
       "    <tr>\n",
       "      <th>3</th>\n",
       "      <td>45</td>\n",
       "      <td>326</td>\n",
       "      <td>113</td>\n",
       "      <td>5</td>\n",
       "      <td>4.5</td>\n",
       "      <td>4.0</td>\n",
       "      <td>9.40</td>\n",
       "      <td>1</td>\n",
       "      <td>0.91</td>\n",
       "    </tr>\n",
       "    <tr>\n",
       "      <th>4</th>\n",
       "      <td>232</td>\n",
       "      <td>319</td>\n",
       "      <td>106</td>\n",
       "      <td>3</td>\n",
       "      <td>3.5</td>\n",
       "      <td>2.5</td>\n",
       "      <td>8.33</td>\n",
       "      <td>1</td>\n",
       "      <td>0.74</td>\n",
       "    </tr>\n",
       "  </tbody>\n",
       "</table>\n",
       "</div>"
      ],
      "text/plain": [
       "   Serial No.  GRE Score  TOEFL Score  University Rating  SOP  LOR  CGPA  \\\n",
       "0         242        317          103                  2  2.5  2.0  8.15   \n",
       "1         334        319          108                  3  3.0  3.5  8.54   \n",
       "2           4        322          110                  3  3.5  2.5  8.67   \n",
       "3          45        326          113                  5  4.5  4.0  9.40   \n",
       "4         232        319          106                  3  3.5  2.5  8.33   \n",
       "\n",
       "   Research  Chance of Admit  \n",
       "0         0             0.65  \n",
       "1         1             0.71  \n",
       "2         1             0.80  \n",
       "3         1             0.91  \n",
       "4         1             0.74  "
      ]
     },
     "execution_count": 2,
     "metadata": {},
     "output_type": "execute_result"
    }
   ],
   "source": [
    "data = pd.read_csv(\"admission_data.csv\")\n",
    "data.head()"
   ]
  },
  {
   "cell_type": "code",
   "execution_count": 3,
   "metadata": {},
   "outputs": [],
   "source": [
    "X_train, X_test, y_train, y_test = train_test_split(\n",
    "    data[['GRE Score', 'TOEFL Score', 'University Rating', 'SOP', 'LOR', 'CGPA', 'Research']],\n",
    "    data[['Chance of Admit']],\n",
    "    test_size=0.2,\n",
    "    random_state=0)"
   ]
  },
  {
   "cell_type": "code",
   "execution_count": 4,
   "metadata": {},
   "outputs": [],
   "source": [
    "for col in X_train:\n",
    "    mean = X_train[col].mean()\n",
    "    std = X_train[col].std()\n",
    "    X_train[col] = (X_train[col] - mean)/std\n",
    "    X_test[col] = (X_test[col]-mean)/std\n"
   ]
  },
  {
   "cell_type": "code",
   "execution_count": 5,
   "metadata": {},
   "outputs": [],
   "source": [
    "X_train['Ones'] = [1]*len(X_train)\n",
    "X_test['Ones'] = [1]*len(X_test)"
   ]
  },
  {
   "cell_type": "code",
   "execution_count": 6,
   "metadata": {},
   "outputs": [],
   "source": [
    "class LinearRegression:\n",
    "    theta = None\n",
    "    \n",
    "    def predict(self, X):\n",
    "        Y_pred = np.dot(X.values,self.theta.T)\n",
    "        return Y_pred\n",
    "    \n",
    "    def compute_error(self, y_pred, y_actual, regularization_method, l):\n",
    "        m = len(y_actual)\n",
    "        error = (1.0/float(m))*np.sum((y_pred-y_actual)*(y_pred-y_actual))\n",
    "        reg_term = 0\n",
    "        if regularization_method == 'lasso':\n",
    "            reg_term = np.sum(np.abs(self.theta))\n",
    "        if regularization_method == 'ridge':\n",
    "            reg_term = np.sum(np.square(self.theta))\n",
    "            \n",
    "        error = error + (l*reg_term)\n",
    "        return error\n",
    "    \n",
    "    def compute_gradient(self, X, h, Y,regularization_method,l):\n",
    "        m = len(Y)\n",
    "        grad = (2.0/float(m))*np.sum(X*(h-Y), axis=0)\n",
    "        reg_term = 0\n",
    "        if regularization_method == 'lasso':\n",
    "            reg_term = np.sum(np.divide(self.theta,np.abs(self.theta)))\n",
    "        if regularization_method == 'ridge':\n",
    "            reg_term = 2*np.sum(self.theta)\n",
    "            \n",
    "        grad = grad + (l*reg_term)\n",
    "        return grad\n",
    "    \n",
    "    def train(self, X_train, y_train, alpha, max_epochs, regularization_method,l):\n",
    "        self.theta = None\n",
    "        self.theta = np.random.rand(1,X_train.shape[1])\n",
    "        m = len(X_train)\n",
    "        its = list()\n",
    "        errs = list()\n",
    "        for i in range(0,max_epochs):\n",
    "            X = X_train.values\n",
    "            h = np.dot(X,self.theta.T)\n",
    "            Y = y_train.values\n",
    "            self.theta = self.theta - alpha*self.compute_gradient(X,h,Y,regularization_method,l)\n",
    "            \n",
    "            y_pred = np.dot(X,self.theta.T)\n",
    "            err = self.compute_error(y_pred,y_train.values, regularization_method,l)\n",
    "            its.append((i+1))\n",
    "            errs.append(err)\n",
    "        return (its,errs)\n",
    "            "
   ]
  },
  {
   "cell_type": "code",
   "execution_count": 7,
   "metadata": {},
   "outputs": [],
   "source": [
    "ln_mse = LinearRegression()\n",
    "its_mse,errs_mse = ln_mse.train(X_train,y_train,0.1, 100,'ridge',0.01)\n",
    "y_train_pred_mse = ln_mse.predict(X_train)\n",
    "y_test_pred_mse = ln_mse.predict(X_test)"
   ]
  },
  {
   "cell_type": "code",
   "execution_count": 8,
   "metadata": {},
   "outputs": [
    {
     "name": "stdout",
     "output_type": "stream",
     "text": [
      "*****************MEAN SQUARED ERROR*****************\n",
      "\n",
      "Train set error : 0.009024650364319674\n",
      "Test set error : 0.00853243595052223\n",
      "\n",
      "****************************************************\n",
      "\n"
     ]
    }
   ],
   "source": [
    "train_mse = ln_mse.compute_error(y_train_pred_mse, y_train.values,'ridge',0.01)\n",
    "test_mse = ln_mse.compute_error(y_test_pred_mse, y_test.values,'ridge',0.01)\n",
    "print '*****************MEAN SQUARED ERROR*****************'\n",
    "print\n",
    "print 'Train set error : '+str(train_mse)\n",
    "print 'Test set error : '+str(test_mse)\n",
    "print\n",
    "print '****************************************************'\n",
    "print"
   ]
  },
  {
   "cell_type": "code",
   "execution_count": 9,
   "metadata": {},
   "outputs": [],
   "source": [
    "lasso_reg_params = np.arange(0,0.01,0.00005)\n",
    "lasso_train_errs = list()\n",
    "lasso_test_errs = list()\n",
    "for reg_param in lasso_reg_params:\n",
    "    ln_mse = LinearRegression()\n",
    "    ln_mse.train(X_train,y_train,0.1,100,'lasso',reg_param)\n",
    "    y_train_pred_mse = ln_mse.predict(X_train)\n",
    "    y_test_pred_mse = ln_mse.predict(X_test)\n",
    "    lasso_train_errs.append(ln_mse.compute_error(y_train_pred_mse, y_train.values,'lasso',reg_param))\n",
    "    lasso_test_errs.append(ln_mse.compute_error(y_test_pred_mse, y_test.values,'lasso',reg_param))"
   ]
  },
  {
   "cell_type": "code",
   "execution_count": 10,
   "metadata": {},
   "outputs": [],
   "source": [
    "ridge_reg_params = np.arange(0,0.01,0.00005)\n",
    "ridge_train_errs = list()\n",
    "ridge_test_errs = list()\n",
    "for reg_param in ridge_reg_params:\n",
    "    ln_mse = LinearRegression()\n",
    "    ln_mse.train(X_train,y_train,0.1,100,'ridge',reg_param)\n",
    "    y_train_pred_mse = ln_mse.predict(X_train)\n",
    "    y_test_pred_mse = ln_mse.predict(X_test)\n",
    "    ridge_train_errs.append(ln_mse.compute_error(y_train_pred_mse, y_train.values,'ridge',reg_param))\n",
    "    ridge_test_errs.append(ln_mse.compute_error(y_test_pred_mse, y_test.values,'ridge',reg_param))"
   ]
  },
  {
   "cell_type": "code",
   "execution_count": 11,
   "metadata": {},
   "outputs": [
    {
     "data": {
      "text/plain": [
       "<matplotlib.text.Text at 0x7f4efe864310>"
      ]
     },
     "execution_count": 11,
     "metadata": {},
     "output_type": "execute_result"
    },
    {
     "data": {
      "image/png": "[encoded data removed]",
      "text/plain": [
       "<matplotlib.figure.Figure at 0x7f4efeb89a50>"
      ]
     },
     "metadata": {
      "needs_background": "light"
     },
     "output_type": "display_data"
    }
   ],
   "source": [
    "df = pd.DataFrame({'Train Error': ridge_train_errs, 'Test Error':ridge_test_errs}, index=ridge_reg_params)\n",
    "lines = df.plot.line()\n",
    "lines.set_title('Ridge Regularization')\n",
    "lines.set_xlabel('lambda')\n",
    "lines.set_ylabel('Error')"
   ]
  },
  {
   "cell_type": "code",
   "execution_count": 12,
   "metadata": {},
   "outputs": [
    {
     "data": {
      "text/plain": [
       "<matplotlib.text.Text at 0x7f4efc718d50>"
      ]
     },
     "execution_count": 12,
     "metadata": {},
     "output_type": "execute_result"
    },
    {
     "data": {
      "image/png": "[encoded data removed]",
      "text/plain": [
       "<matplotlib.figure.Figure at 0x7f4efe7ad8d0>"
      ]
     },
     "metadata": {
      "needs_background": "light"
     },
     "output_type": "display_data"
    }
   ],
   "source": [
    "df = pd.DataFrame({'Train Error': lasso_train_errs, 'Test Error':lasso_test_errs}, index=lasso_reg_params)\n",
    "lines = df.plot.line()\n",
    "lines.set_title('Lasso Regularization')\n",
    "lines.set_xlabel('lambda')\n",
    "lines.set_ylabel('Error')"
   ]
  },
  {
   "cell_type": "code",
   "execution_count": 13,
   "metadata": {},
   "outputs": [],
   "source": [
    "lasso_reg_params = np.arange(0,10,0.1)\n",
    "lasso_train_errs = list()\n",
    "lasso_test_errs = list()\n",
    "for reg_param in lasso_reg_params:\n",
    "    ln_mse = LinearRegression()\n",
    "    ln_mse.train(X_train,y_train,0.1,100,'lasso',reg_param)\n",
    "    y_train_pred_mse = ln_mse.predict(X_train)\n",
    "    y_test_pred_mse = ln_mse.predict(X_test)\n",
    "    lasso_train_errs.append(ln_mse.compute_error(y_train_pred_mse, y_train.values,'lasso',reg_param))\n",
    "    lasso_test_errs.append(ln_mse.compute_error(y_test_pred_mse, y_test.values,'lasso',reg_param))"
   ]
  },
  {
   "cell_type": "code",
   "execution_count": 14,
   "metadata": {},
   "outputs": [],
   "source": [
    "ridge_reg_params = np.arange(0,10,0.1)\n",
    "ridge_train_errs = list()\n",
    "ridge_test_errs = list()\n",
    "for reg_param in ridge_reg_params:\n",
    "    ln_mse = LinearRegression()\n",
    "    ln_mse.train(X_train,y_train,0.1,100,'ridge',reg_param)\n",
    "    y_train_pred_mse = ln_mse.predict(X_train)\n",
    "    y_test_pred_mse = ln_mse.predict(X_test)\n",
    "    ridge_train_errs.append(ln_mse.compute_error(y_train_pred_mse, y_train.values,'ridge',reg_param))\n",
    "    ridge_test_errs.append(ln_mse.compute_error(y_test_pred_mse, y_test.values,'ridge',reg_param))"
   ]
  },
  {
   "cell_type": "code",
   "execution_count": 15,
   "metadata": {},
   "outputs": [
    {
     "data": {
      "text/plain": [
       "<matplotlib.text.Text at 0x7f4efc6561d0>"
      ]
     },
     "execution_count": 15,
     "metadata": {},
     "output_type": "execute_result"
    },
    {
     "data": {
      "image/png": "[encoded data removed]",
      "text/plain": [
       "<matplotlib.figure.Figure at 0x7f4f0073c890>"
      ]
     },
     "metadata": {
      "needs_background": "light"
     },
     "output_type": "display_data"
    }
   ],
   "source": [
    "df = pd.DataFrame({'Train Error': ridge_train_errs, 'Test Error':ridge_test_errs}, index=ridge_reg_params)\n",
    "lines = df.plot.line()\n",
    "lines.set_title('Ridge Regularization')\n",
    "lines.set_xlabel('lambda')\n",
    "lines.set_ylabel('Error')"
   ]
  },
  {
   "cell_type": "code",
   "execution_count": 16,
   "metadata": {},
   "outputs": [
    {
     "data": {
      "text/plain": [
       "<matplotlib.text.Text at 0x7f4efc6695d0>"
      ]
     },
     "execution_count": 16,
     "metadata": {},
     "output_type": "execute_result"
    },
    {
     "data": {
      "image/png": "[encoded data removed]",
      "text/plain": [
       "<matplotlib.figure.Figure at 0x7f4efc67c750>"
      ]
     },
     "metadata": {
      "needs_background": "light"
     },
     "output_type": "display_data"
    }
   ],
   "source": [
    "df = pd.DataFrame({'Train Error': lasso_train_errs, 'Test Error':lasso_test_errs}, index=lasso_reg_params)\n",
    "lines = df.plot.line()\n",
    "lines.set_title('Lasso Regularization')\n",
    "lines.set_xlabel('lambda')\n",
    "lines.set_ylabel('Error')"
   ]
  },
  {
   "cell_type": "code",
   "execution_count": null,
   "metadata": {},
   "outputs": [],
   "source": []
  }
 ],
 "metadata": {
  "kernelspec": {
   "display_name": "Python 2",
   "language": "python",
   "name": "python2"
  },
  "language_info": {
   "codemirror_mode": {
    "name": "ipython",
    "version": 2
   },
   "file_extension": ".py",
   "mimetype": "text/x-python",
   "name": "python",
   "nbconvert_exporter": "python",
   "pygments_lexer": "ipython2",
   "version": "2.7.15rc1"
  }
 },
 "nbformat": 4,
 "nbformat_minor": 2
}
